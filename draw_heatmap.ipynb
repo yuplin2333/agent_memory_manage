{
 "cells": [
  {
   "cell_type": "markdown",
   "metadata": {},
   "source": [
    "# Draw Heatmap"
   ]
  },
  {
   "cell_type": "code",
   "execution_count": 1,
   "metadata": {},
   "outputs": [],
   "source": [
    "import pickle\n",
    "\n",
    "import matplotlib.pyplot as plt\n",
    "import numpy as np\n",
    "import pandas as pd\n",
    "import seaborn as sns\n",
    "import random\n",
    "import torch"
   ]
  },
  {
   "cell_type": "markdown",
   "metadata": {},
   "source": [
    "## MODIFY THE BLOCK BELOW\n",
    "\n",
    "Modify the result folder name."
   ]
  },
  {
   "cell_type": "code",
   "execution_count": null,
   "metadata": {},
   "outputs": [],
   "source": [
    "with open(\"./results/example_addstrict_exp/records.pkl\", \"rb\") as f:\n",
    "    records = pickle.load(f)\n",
    "df_records = pd.DataFrame(records)\n",
    "df_records.head(3)"
   ]
  },
  {
   "cell_type": "code",
   "execution_count": null,
   "metadata": {},
   "outputs": [],
   "source": [
    "df_records[\"output_similarity_cos\"].mean()"
   ]
  },
  {
   "cell_type": "code",
   "execution_count": 4,
   "metadata": {},
   "outputs": [],
   "source": [
    "def compute_output_exp_similarity(self, traj1, traj2, gamma=1.0):\n",
    "    vec1 = traj1.flatten()\n",
    "    vec2 = traj2.flatten()\n",
    "    squared_diff = np.sum((vec1 - vec2) ** 2)\n",
    "    similarity = np.exp(-gamma * squared_diff)\n",
    "    return similarity"
   ]
  },
  {
   "cell_type": "markdown",
   "metadata": {},
   "source": [
    "## MODIFY THE CODE BELOW\n",
    "\n",
    "Modify the result folder name."
   ]
  },
  {
   "cell_type": "code",
   "execution_count": null,
   "metadata": {},
   "outputs": [],
   "source": [
    "with open(\"./results/example_addstrict_exp/deletion_records.pkl\", \"rb\") as f:\n",
    "    deletion_records = pickle.load(f)\n",
    "df_deletion_records = pd.DataFrame(deletion_records)\n",
    "list_deleted_tokens = df_deletion_records[\"token\"].tolist()\n",
    "df_deletion_records.head(3)"
   ]
  },
  {
   "cell_type": "code",
   "execution_count": 6,
   "metadata": {},
   "outputs": [],
   "source": [
    "deleted_demo_input = []\n",
    "deleted_demo_output = []\n",
    "general_demo_input = []\n",
    "general_demo_output = []\n",
    "\n",
    "for record in records:\n",
    "    if record[\"memory_token\"] in list_deleted_tokens:\n",
    "        deleted_demo_input.append(record[\"input_similarity\"])\n",
    "        deleted_demo_output.append(record[\"output_similarity_exp\"])\n",
    "    else:\n",
    "        general_demo_input.append(record[\"input_similarity\"])\n",
    "        general_demo_output.append(record[\"output_similarity_exp\"])\n",
    "\n",
    "datasets = [\n",
    "    (deleted_demo_input, deleted_demo_output),\n",
    "    (general_demo_input, general_demo_output),\n",
    "]"
   ]
  },
  {
   "cell_type": "code",
   "execution_count": null,
   "metadata": {},
   "outputs": [],
   "source": [
    "plt.style.use(\"seaborn-whitegrid\")\n",
    "fig, (ax1, ax2) = plt.subplots(1, 2, figsize=(15, 7))\n",
    "axes = [ax1, ax2]\n",
    "titles = [\"Deleted Records\", \"Retained Records\"]\n",
    "\n",
    "\n",
    "for ax, title, (x_data, y_data) in zip(axes, titles, datasets):\n",
    "    # Create 2D histogram with more bins for smoother visualization\n",
    "    heatmap, xedges, yedges = np.histogram2d(\n",
    "        x_data, y_data, bins=30, range=[[0.5, 1], [0.5, 1]]\n",
    "    )\n",
    "    # Normalize and smooth the heatmap\n",
    "    heatmap = heatmap.T / np.max(heatmap)\n",
    "\n",
    "    # Create heatmap plot with improved colormap\n",
    "    im = ax.imshow(\n",
    "        heatmap,\n",
    "        origin=\"lower\",\n",
    "        extent=[0.5, 1, 0.5, 1],\n",
    "        aspect=\"auto\",\n",
    "        cmap=\"viridis\",\n",
    "    )\n",
    "\n",
    "    # Customize subplot with professional styling\n",
    "    # ax.set_title(title, pad=15, fontsize=20)\n",
    "    ax.set_title(title, fontsize=34, pad=5, fontweight='bold')  # Reduced pad value to bring title closer\n",
    "    # ax.set_title(title, fontsize=20)\n",
    "    ax.set_xlabel(\"Input Similarity\", fontsize=34, fontweight='bold')\n",
    "    if ax == ax1:\n",
    "        ax.set_ylabel(\"Output Similarity\", fontsize=34, fontweight='bold')\n",
    "\n",
    "    # Customize ticks\n",
    "    ax.tick_params(axis=\"both\", which=\"major\", labelsize=16)\n",
    "\n",
    "    # Add subtle grid\n",
    "    ax.grid(True, linestyle=\"--\", alpha=0.3, color=\"gray\")\n",
    "\n",
    "    # Add colorbar with custom styling\n",
    "    cbar = plt.colorbar(im, ax=ax)\n",
    "    cbar.ax.tick_params(labelsize=14)\n",
    "    # cbar.set_label('Normalized Density', fontsize=14, labelpad=10)\n",
    "\n",
    "    # Add subtle spines\n",
    "    for spine in ax.spines.values():\n",
    "        spine.set_color(\"lightgray\")\n",
    "        spine.set_linewidth(0.5)\n",
    "\n",
    "# Add main title with professional styling\n",
    "plt.suptitle(\n",
    "    \"Input vs Output Similarity Analysis for AgentDriver\",\n",
    "    fontsize=34,\n",
    "    fontweight=\"bold\",\n",
    ")\n",
    "\n",
    "# Adjust layout to prevent overlapping\n",
    "plt.tight_layout()\n",
    "\n",
    "# Save with high quality\n",
    "plt.savefig(\"./plots/updated_similarity_heatmaps.png\", dpi=300, bbox_inches=\"tight\")\n",
    "plt.show()\n",
    "plt.close()"
   ]
  }
 ],
 "metadata": {
  "kernelspec": {
   "display_name": "agent-driver",
   "language": "python",
   "name": "python3"
  },
  "language_info": {
   "codemirror_mode": {
    "name": "ipython",
    "version": 3
   },
   "file_extension": ".py",
   "mimetype": "text/x-python",
   "name": "python",
   "nbconvert_exporter": "python",
   "pygments_lexer": "ipython3",
   "version": "3.11.9"
  }
 },
 "nbformat": 4,
 "nbformat_minor": 2
}
